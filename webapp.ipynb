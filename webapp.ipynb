{
  "nbformat": 4,
  "nbformat_minor": 0,
  "metadata": {
    "colab": {
      "provenance": [],
      "authorship_tag": "ABX9TyPyUwkiPKSl6uX6aEor8Olk",
      "include_colab_link": true
    },
    "kernelspec": {
      "name": "python3",
      "display_name": "Python 3"
    },
    "language_info": {
      "name": "python"
    }
  },
  "cells": [
    {
      "cell_type": "markdown",
      "metadata": {
        "id": "view-in-github",
        "colab_type": "text"
      },
      "source": [
        "<a href=\"https://colab.research.google.com/github/subjayap-git/Learndevops/blob/master/webapp.ipynb\" target=\"_parent\"><img src=\"https://colab.research.google.com/assets/colab-badge.svg\" alt=\"Open In Colab\"/></a>"
      ]
    },
    {
      "cell_type": "code",
      "execution_count": 2,
      "metadata": {
        "colab": {
          "base_uri": "https://localhost:8080/"
        },
        "id": "KYxnUT_T-hj3",
        "outputId": "1b827e6f-c682-4128-8f24-23f2181f1896"
      },
      "outputs": [
        {
          "output_type": "stream",
          "name": "stdout",
          "text": [
            "Model Accuracy: 0.83\n",
            " * Serving Flask app '__main__'\n",
            " * Debug mode: off\n"
          ]
        },
        {
          "output_type": "stream",
          "name": "stderr",
          "text": [
            "INFO:werkzeug:\u001b[31m\u001b[1mWARNING: This is a development server. Do not use it in a production deployment. Use a production WSGI server instead.\u001b[0m\n",
            " * Running on all addresses (0.0.0.0)\n",
            " * Running on http://127.0.0.1:5000\n",
            " * Running on http://172.28.0.12:5000\n",
            "INFO:werkzeug:\u001b[33mPress CTRL+C to quit\u001b[0m\n"
          ]
        }
      ],
      "source": [
        "import numpy as np\n",
        "import joblib\n",
        "import pandas as pd\n",
        "from flask import Flask, request, jsonify, render_template\n",
        "from sklearn.model_selection import train_test_split\n",
        "from sklearn.preprocessing import StandardScaler\n",
        "from sklearn.ensemble import RandomForestClassifier\n",
        "from sklearn.metrics import accuracy_score\n",
        "\n",
        "app = Flask(__name__)\n",
        "\n",
        "# Load dataset\n",
        "file_path = \"PCOS_SURVEY_SPREADSHEET.csv\"\n",
        "df = pd.read_csv(file_path)\n",
        "\n",
        "# Clean column names\n",
        "df.columns = [\n",
        "    \"Age\", \"Weight\", \"Height\", \"Blood_Group\", \"Cycle_Interval\",\n",
        "    \"Recent_Weight_Gain\", \"Excess_Hair_Growth\", \"Skin_Darkening\",\n",
        "    \"Hair_Loss\", \"Acne\", \"Fast_Food\", \"Exercise\", \"PCOS_Diagnosed\",\n",
        "    \"Mood_Swings\", \"Regular_Periods\", \"Period_Duration\"\n",
        "]\n",
        "\n",
        "# Selecting features and target variable\n",
        "X = df.drop(columns=[\"PCOS_Diagnosed\", \"Blood_Group\"])\n",
        "y = df[\"PCOS_Diagnosed\"]\n",
        "\n",
        "# Splitting data into train and test sets\n",
        "X_train, X_test, y_train, y_test = train_test_split(X, y, test_size=0.2, random_state=42, stratify=y)\n",
        "\n",
        "# Standardizing numerical features\n",
        "scaler = StandardScaler()\n",
        "X_train_scaled = scaler.fit_transform(X_train)\n",
        "X_test_scaled = scaler.transform(X_test)\n",
        "\n",
        "# Training the model\n",
        "model = RandomForestClassifier(n_estimators=100, random_state=42)\n",
        "model.fit(X_train_scaled, y_train)\n",
        "\n",
        "# Save model and scaler\n",
        "joblib.dump(model, \"pcos_model.pkl\")\n",
        "joblib.dump(scaler, \"scaler.pkl\")\n",
        "\n",
        "# Evaluating the model\n",
        "y_pred = model.predict(X_test_scaled)\n",
        "accuracy = accuracy_score(y_test, y_pred)\n",
        "print(f\"Model Accuracy: {accuracy:.2f}\")\n",
        "\n",
        "# Load model and scaler\n",
        "model = joblib.load(\"pcos_model.pkl\")\n",
        "scaler = joblib.load(\"scaler.pkl\")\n",
        "\n",
        "@app.route(\"/\")\n",
        "def home():\n",
        "    return '''\n",
        "    <html>\n",
        "    <head>\n",
        "        <title>PCOS Prediction</title>\n",
        "        <style>\n",
        "            body { background-color: black; color: orange; font-family: Arial, sans-serif; text-align: center; }\n",
        "            h1 { color: orange; }\n",
        "            form { margin: 20px auto; width: 50%; }\n",
        "            input, button { padding: 10px; margin: 5px; }\n",
        "            button { background-color: orange; color: black; border: none; cursor: pointer; }\n",
        "            button:hover { background-color: #ff8800; }\n",
        "        </style>\n",
        "    </head>\n",
        "    <body>\n",
        "        <h1>PCOS Prediction</h1>\n",
        "        <form action=\"/predict\" method=\"post\">\n",
        "            Age: <input type=\"number\" name=\"age\" required><br>\n",
        "            Weight (kg): <input type=\"number\" name=\"weight\" required><br>\n",
        "            Height (cm): <input type=\"number\" name=\"height\" required><br>\n",
        "            Cycle Interval (months): <input type=\"number\" name=\"cycle_interval\" required><br>\n",
        "            Recent Weight Gain: <input type=\"number\" name=\"weight_gain\" min=\"0\" max=\"1\" required><br>\n",
        "            Excess Hair Growth: <input type=\"number\" name=\"hair_growth\" min=\"0\" max=\"1\" required><br>\n",
        "            Skin Darkening: <input type=\"number\" name=\"skin_darkening\" min=\"0\" max=\"1\" required><br>\n",
        "            Hair Loss: <input type=\"number\" name=\"hair_loss\" min=\"0\" max=\"1\" required><br>\n",
        "            Acne: <input type=\"number\" name=\"acne\" min=\"0\" max=\"1\" required><br>\n",
        "            Fast Food Consumption: <input type=\"number\" name=\"fast_food\" min=\"0\" max=\"1\" required><br>\n",
        "            Exercise Regularly: <input type=\"number\" name=\"exercise\" min=\"0\" max=\"1\" required><br>\n",
        "            Mood Swings: <input type=\"number\" name=\"mood_swings\" min=\"0\" max=\"1\" required><br>\n",
        "            Regular Periods: <input type=\"number\" name=\"regular_periods\" min=\"0\" max=\"1\" required><br>\n",
        "            Period Duration (days): <input type=\"number\" name=\"period_duration\" required><br>\n",
        "            <button type=\"submit\">Predict</button>\n",
        "        </form>\n",
        "    </body>\n",
        "    </html>\n",
        "    '''\n",
        "\n",
        "@app.route(\"/predict\", methods=[\"POST\"])\n",
        "def predict_pcos():\n",
        "    data = request.form\n",
        "    try:\n",
        "        input_data = np.array([[\n",
        "            float(data[\"age\"]), float(data[\"weight\"]), float(data[\"height\"]), float(data[\"cycle_interval\"]),\n",
        "            int(data[\"weight_gain\"]), int(data[\"hair_growth\"]), int(data[\"skin_darkening\"]),\n",
        "            int(data[\"hair_loss\"]), int(data[\"acne\"]), int(data[\"fast_food\"]), int(data[\"exercise\"]),\n",
        "            int(data[\"mood_swings\"]), int(data[\"regular_periods\"]), float(data[\"period_duration\"])\n",
        "        ]])\n",
        "\n",
        "        # Scale input\n",
        "        input_scaled = scaler.transform(input_data)\n",
        "\n",
        "        # Get probability\n",
        "        prob_pcos = model.predict_proba(input_scaled)[:, 1][0]\n",
        "\n",
        "        # Categorize probability\n",
        "        if prob_pcos < 0.3:\n",
        "            result = \"No PCOS detected - Maintain a good lifestyle\"\n",
        "        elif prob_pcos < 0.7:\n",
        "            result = \"May have PCOS - Can visit a doctor\"\n",
        "        else:\n",
        "            result = \"More possibility of PCOS - Must visit a doctor\"\n",
        "\n",
        "        return f'<body style=\"background-color:black; color:orange; text-align:center;\"><h1>PCOS Prediction</h1><p>{result}</p><p>Probability: {prob_pcos:.2f}</p></body>'\n",
        "    except Exception as e:\n",
        "        return f'<body style=\"background-color:black; color:orange; text-align:center;\"><h1>Error</h1><p>{str(e)}</p></body>'\n",
        "\n",
        "if __name__ == \"__main__\":\n",
        "    app.run(host=\"0.0.0.0\", port=5000)"
      ]
    }
  ]
}